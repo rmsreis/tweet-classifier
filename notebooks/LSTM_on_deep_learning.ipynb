{
 "cells": [
  {
   "cell_type": "markdown",
   "metadata": {},
   "source": [
    "### Multi-Class Classification using LSTM:\n",
    "\n",
    "Here we test Multi-Class Text Classification using LSTM:\n",
    "Long Short Term Memory networks (STMs) \n",
    "are a special kind of RNN, capable of learning long-term dependencies.\n",
    "\n",
    "Good resource to unnderstand LSTM\n",
    "https://colah.github.io/posts/2015-08-Understanding-LSTMs/"
   ]
  },
  {
   "cell_type": "code",
   "execution_count": 2,
   "metadata": {},
   "outputs": [
    {
     "data": {
      "text/html": [
       "        <script type=\"text/javascript\">\n",
       "        window.PlotlyConfig = {MathJaxConfig: 'local'};\n",
       "        if (window.MathJax) {MathJax.Hub.Config({SVG: {font: \"STIX-Web\"}});}\n",
       "        if (typeof require !== 'undefined') {\n",
       "        require.undef(\"plotly\");\n",
       "        requirejs.config({\n",
       "            paths: {\n",
       "                'plotly': ['https://cdn.plot.ly/plotly-latest.min']\n",
       "            }\n",
       "        });\n",
       "        require(['plotly'], function(Plotly) {\n",
       "            window._Plotly = Plotly;\n",
       "        });\n",
       "        }\n",
       "        </script>\n",
       "        "
      ]
     },
     "metadata": {},
     "output_type": "display_data"
    }
   ],
   "source": [
    "#Dependencies\n",
    "import numpy as np \n",
    "import pandas as pd\n",
    "import matplotlib.pyplot as plt\n",
    "import seaborn as sns\n",
    "\n",
    "\n",
    "from keras.preprocessing.text import Tokenizer\n",
    "from keras.preprocessing.sequence import pad_sequences\n",
    "from keras.models import Sequential\n",
    "from keras.layers import Dense, Embedding, LSTM, SpatialDropout1D\n",
    "from sklearn.model_selection import train_test_split\n",
    "from keras.utils.np_utils import to_categorical\n",
    "from keras.callbacks import EarlyStopping\n",
    "from keras.layers import Dropout\n",
    "import re\n",
    "from nltk.corpus import stopwords\n",
    "from nltk import word_tokenize\n",
    "\n",
    "\n",
    "STOPWORDS = set(stopwords.words('english'))\n",
    "from bs4 import BeautifulSoup\n",
    "import plotly.graph_objs as go\n",
    "# import plotly.plotly as py\n",
    "import cufflinks\n",
    "\n",
    "from IPython.core.interactiveshell import InteractiveShell\n",
    "import plotly.figure_factory as ff\n",
    "InteractiveShell.ast_node_interactivity = 'all'\n",
    "\n",
    "from plotly.offline import iplot\n",
    "cufflinks.go_offline()\n",
    "cufflinks.set_config_file(world_readable=True, theme='pearl')"
   ]
  },
  {
   "cell_type": "code",
   "execution_count": 3,
   "metadata": {},
   "outputs": [
    {
     "data": {
      "text/html": [
       "<div>\n",
       "<style scoped>\n",
       "    .dataframe tbody tr th:only-of-type {\n",
       "        vertical-align: middle;\n",
       "    }\n",
       "\n",
       "    .dataframe tbody tr th {\n",
       "        vertical-align: top;\n",
       "    }\n",
       "\n",
       "    .dataframe thead th {\n",
       "        text-align: right;\n",
       "    }\n",
       "</style>\n",
       "<table border=\"1\" class=\"dataframe\">\n",
       "  <thead>\n",
       "    <tr style=\"text-align: right;\">\n",
       "      <th></th>\n",
       "      <th>Text_Clean</th>\n",
       "      <th>County</th>\n",
       "    </tr>\n",
       "  </thead>\n",
       "  <tbody>\n",
       "    <tr>\n",
       "      <th>0</th>\n",
       "      <td>talking to some great journos this morning all...</td>\n",
       "      <td>Greater London</td>\n",
       "    </tr>\n",
       "    <tr>\n",
       "      <th>1</th>\n",
       "      <td>incident severe delay m northbound between j a...</td>\n",
       "      <td>West Midlands</td>\n",
       "    </tr>\n",
       "    <tr>\n",
       "      <th>2</th>\n",
       "      <td>a little snippet from my  sundayjazzcongregati...</td>\n",
       "      <td>Greater London</td>\n",
       "    </tr>\n",
       "    <tr>\n",
       "      <th>3</th>\n",
       "      <td>if youre a  pharmaceutical professional in  ma...</td>\n",
       "      <td>Greater Manchester</td>\n",
       "    </tr>\n",
       "    <tr>\n",
       "      <th>4</th>\n",
       "      <td>our  day  summit kicks off in our new office w...</td>\n",
       "      <td>Greater London</td>\n",
       "    </tr>\n",
       "  </tbody>\n",
       "</table>\n",
       "</div>"
      ],
      "text/plain": [
       "                                          Text_Clean              County\n",
       "0  talking to some great journos this morning all...      Greater London\n",
       "1  incident severe delay m northbound between j a...       West Midlands\n",
       "2  a little snippet from my  sundayjazzcongregati...      Greater London\n",
       "3  if youre a  pharmaceutical professional in  ma...  Greater Manchester\n",
       "4  our  day  summit kicks off in our new office w...      Greater London"
      ]
     },
     "execution_count": 3,
     "metadata": {},
     "output_type": "execute_result"
    }
   ],
   "source": [
    "# Importing data\n",
    "fname = 'tweet_data/tweets_final_long_list_80k.csv'\n",
    "df = pd.read_csv(fname, encoding='utf-8') \n",
    "df = df.loc[ : , ('Text_Clean','County')]\n",
    "df.head()\n",
    "\n",
    "df = df[pd.notnull(df['Text_Clean'])]\n",
    "df = df[(df.County != 'None')].dropna()\n",
    "df = df[(df.County != 'NAN')].dropna()\n"
   ]
  },
  {
   "cell_type": "code",
   "execution_count": 4,
   "metadata": {},
   "outputs": [
    {
     "data": {
      "text/plain": [
       "Greater London              17132\n",
       "Greater Manchester           2571\n",
       "Essex                        2114\n",
       "West Yorkshire               2049\n",
       "West Midlands                1589\n",
       "                            ...  \n",
       "Isles of Scilly                 5\n",
       "Conwy                           4\n",
       "Caerdydd                        4\n",
       "Castell-nedd Port Talbot        2\n",
       "Caerffili                       1\n",
       "Name: County, Length: 159, dtype: int64"
      ]
     },
     "execution_count": 4,
     "metadata": {},
     "output_type": "execute_result"
    }
   ],
   "source": [
    "df.County.value_counts()"
   ]
  },
  {
   "cell_type": "code",
   "execution_count": 7,
   "metadata": {},
   "outputs": [
    {
     "data": {
      "application/vnd.plotly.v1+json": {
       "config": {
        "linkText": "Export to plot.ly",
        "plotlyServerURL": "https://plot.ly",
        "showLink": true
       },
       "data": [
        {
         "marker": {
          "color": "rgba(255, 153, 51, 0.6)",
          "line": {
           "color": "rgba(255, 153, 51, 1.0)",
           "width": 1
          }
         },
         "name": "County",
         "orientation": "v",
         "text": "",
         "type": "bar",
         "x": [
          "Greater London",
          "Greater Manchester",
          "Essex",
          "West Yorkshire",
          "West Midlands",
          "Kent",
          "Lancashire",
          "Surrey",
          "Tyne and Wear",
          "Hertfordshire",
          "Merseyside",
          "Suffolk",
          "South Yorkshire",
          "Glasgow City",
          "West Sussex",
          "Edinburgh",
          "Cambridgeshire",
          "Devon",
          "Brighton and Hove",
          "Nottinghamshire",
          "Norfolk",
          "Hampshire",
          "Shropshire",
          "Dorset",
          "Cumbria",
          "Oxfordshire",
          "Cornwall",
          "City of Bristol",
          "Lincolnshire",
          "Gloucestershire",
          "Northamptonshire",
          "Buckinghamshire",
          "Derbyshire",
          "Worcestershire",
          "North Yorkshire",
          "Belfast",
          "Somerset",
          "Staffordshire",
          "Cheshire East",
          "Cardiff",
          "East Sussex",
          "Derby",
          "Stoke-on-Trent",
          "Leicestershire",
          "Warwickshire",
          "Southampton",
          "County Durham",
          "Southend-on-Sea",
          "Central Bedfordshire",
          "York",
          "Leicester",
          "North Lanarkshire",
          "Cheshire West and Chester",
          "Highland Council",
          "Bath and North East Somerset",
          "Isle of Wight",
          "Conwy Principal Area",
          "Renfrewshire",
          "Aberdeenshire",
          "Windsor and Maidenhead",
          "Swansea",
          "Northumberland",
          "Fife",
          "Herefordshire",
          "Gwynedd",
          "Reading",
          "Plymouth",
          "Wiltshire",
          "Portsmouth",
          "North East Lincolnshire",
          "Dundee City Council",
          "Milton Keynes",
          "East Riding of Yorkshire",
          "Bedford",
          "Kingston upon Hull",
          "Angus council",
          "Powys",
          "Rhondda Cynon Taff",
          "South Lanarkshire",
          "South Gloucestershire",
          "Aberdeen City",
          "Ynys Môn",
          "Slough",
          "Scottish Borders",
          "Orkney",
          "North Somerset",
          "Newport",
          "Perth and Kinross",
          "Flintshire",
          "Blackpool",
          "Newry, Mourne And Down",
          "Swindon",
          "Wokingham",
          "Pembrokeshire",
          "Mid And East Antrim",
          "Stirling",
          "North Lincolnshire",
          "Stockton-on-Tees",
          "Medway",
          "Luton",
          "Torbay",
          "Borough of Halton",
          "West Berkshire",
          "Shetland Islands",
          "East Lothian Council",
          "North Ayrshire Council",
          "Na h-Eileanan an Iar",
          "Denbighshire",
          "Middlesbrough",
          "Antrim And Newtownabbey",
          "Vale of Glamorgan",
          "Dumfries and Galloway",
          "Warrington",
          "Monmouthshire",
          "Caerphilly County Borough",
          "Wrexham Principal Area",
          "South Ayrshire Council",
          "Falkirk",
          "Armagh City, Banbridge And Craigavon",
          "Carmarthenshire",
          "Hartlepool",
          "Ceredigion",
          "Argyll and Bute Council",
          "Causeway Coast and Glens",
          "West Lothian",
          "Peterborough",
          "Lisburn and Castlereagh",
          "Bridgend County Borough",
          "West Dunbartonshire Council",
          "Darlington",
          "East Ayrshire Council",
          "Rutland",
          "Sir Ceredigion",
          "Ards And North Down",
          "Blackburn with Darwen",
          "Midlothian",
          "Neath Port Talbot Principle Area",
          "Redcar and Cleveland",
          "Derry And Strabane",
          "East Dunbartonshire Council",
          "Inverclyde",
          "Isle of Anglesey",
          "Bracknell Forest",
          "Mid Ulster",
          "Torfaen Principal Area",
          "East Renfrewshire Council",
          "Moray",
          "Sir Gaerfyrddin",
          "Sir Ddinbych",
          "Blaenau Gwent",
          "Clackmannanshire",
          "Merthyr Tydfil County Borough",
          "Pen-y-bont ar Ogwr",
          "Fermanagh And Omagh",
          "Isles of Scilly",
          "Caerdydd",
          "Conwy",
          "Castell-nedd Port Talbot",
          "Caerffili"
         ],
         "y": [
          17132,
          2571,
          2114,
          2049,
          1589,
          1550,
          1419,
          1380,
          1261,
          1257,
          1182,
          1049,
          941,
          882,
          769,
          767,
          746,
          728,
          708,
          704,
          703,
          674,
          652,
          636,
          617,
          607,
          593,
          584,
          578,
          576,
          528,
          505,
          490,
          474,
          469,
          451,
          450,
          442,
          439,
          423,
          386,
          373,
          355,
          348,
          348,
          330,
          326,
          297,
          279,
          277,
          263,
          251,
          248,
          240,
          234,
          230,
          228,
          218,
          217,
          215,
          211,
          209,
          208,
          202,
          197,
          191,
          183,
          183,
          181,
          162,
          161,
          158,
          156,
          154,
          149,
          147,
          142,
          137,
          137,
          136,
          135,
          130,
          130,
          129,
          128,
          118,
          110,
          110,
          108,
          105,
          105,
          100,
          99,
          96,
          95,
          93,
          91,
          83,
          81,
          81,
          80,
          80,
          74,
          73,
          72,
          70,
          68,
          67,
          67,
          66,
          66,
          66,
          64,
          64,
          63,
          61,
          60,
          60,
          60,
          59,
          59,
          58,
          57,
          55,
          53,
          53,
          53,
          52,
          49,
          46,
          44,
          43,
          41,
          41,
          40,
          39,
          38,
          37,
          36,
          34,
          34,
          33,
          33,
          32,
          27,
          25,
          20,
          18,
          17,
          16,
          15,
          12,
          7,
          7,
          5,
          4,
          4,
          2,
          1
         ]
        }
       ],
       "layout": {
        "legend": {
         "bgcolor": "#F5F6F9",
         "font": {
          "color": "#4D5663"
         }
        },
        "paper_bgcolor": "#F5F6F9",
        "plot_bgcolor": "#F5F6F9",
        "template": {
         "data": {
          "bar": [
           {
            "error_x": {
             "color": "#2a3f5f"
            },
            "error_y": {
             "color": "#2a3f5f"
            },
            "marker": {
             "line": {
              "color": "#E5ECF6",
              "width": 0.5
             }
            },
            "type": "bar"
           }
          ],
          "barpolar": [
           {
            "marker": {
             "line": {
              "color": "#E5ECF6",
              "width": 0.5
             }
            },
            "type": "barpolar"
           }
          ],
          "carpet": [
           {
            "aaxis": {
             "endlinecolor": "#2a3f5f",
             "gridcolor": "white",
             "linecolor": "white",
             "minorgridcolor": "white",
             "startlinecolor": "#2a3f5f"
            },
            "baxis": {
             "endlinecolor": "#2a3f5f",
             "gridcolor": "white",
             "linecolor": "white",
             "minorgridcolor": "white",
             "startlinecolor": "#2a3f5f"
            },
            "type": "carpet"
           }
          ],
          "choropleth": [
           {
            "colorbar": {
             "outlinewidth": 0,
             "ticks": ""
            },
            "type": "choropleth"
           }
          ],
          "contour": [
           {
            "colorbar": {
             "outlinewidth": 0,
             "ticks": ""
            },
            "colorscale": [
             [
              0,
              "#0d0887"
             ],
             [
              0.1111111111111111,
              "#46039f"
             ],
             [
              0.2222222222222222,
              "#7201a8"
             ],
             [
              0.3333333333333333,
              "#9c179e"
             ],
             [
              0.4444444444444444,
              "#bd3786"
             ],
             [
              0.5555555555555556,
              "#d8576b"
             ],
             [
              0.6666666666666666,
              "#ed7953"
             ],
             [
              0.7777777777777778,
              "#fb9f3a"
             ],
             [
              0.8888888888888888,
              "#fdca26"
             ],
             [
              1,
              "#f0f921"
             ]
            ],
            "type": "contour"
           }
          ],
          "contourcarpet": [
           {
            "colorbar": {
             "outlinewidth": 0,
             "ticks": ""
            },
            "type": "contourcarpet"
           }
          ],
          "heatmap": [
           {
            "colorbar": {
             "outlinewidth": 0,
             "ticks": ""
            },
            "colorscale": [
             [
              0,
              "#0d0887"
             ],
             [
              0.1111111111111111,
              "#46039f"
             ],
             [
              0.2222222222222222,
              "#7201a8"
             ],
             [
              0.3333333333333333,
              "#9c179e"
             ],
             [
              0.4444444444444444,
              "#bd3786"
             ],
             [
              0.5555555555555556,
              "#d8576b"
             ],
             [
              0.6666666666666666,
              "#ed7953"
             ],
             [
              0.7777777777777778,
              "#fb9f3a"
             ],
             [
              0.8888888888888888,
              "#fdca26"
             ],
             [
              1,
              "#f0f921"
             ]
            ],
            "type": "heatmap"
           }
          ],
          "heatmapgl": [
           {
            "colorbar": {
             "outlinewidth": 0,
             "ticks": ""
            },
            "colorscale": [
             [
              0,
              "#0d0887"
             ],
             [
              0.1111111111111111,
              "#46039f"
             ],
             [
              0.2222222222222222,
              "#7201a8"
             ],
             [
              0.3333333333333333,
              "#9c179e"
             ],
             [
              0.4444444444444444,
              "#bd3786"
             ],
             [
              0.5555555555555556,
              "#d8576b"
             ],
             [
              0.6666666666666666,
              "#ed7953"
             ],
             [
              0.7777777777777778,
              "#fb9f3a"
             ],
             [
              0.8888888888888888,
              "#fdca26"
             ],
             [
              1,
              "#f0f921"
             ]
            ],
            "type": "heatmapgl"
           }
          ],
          "histogram": [
           {
            "marker": {
             "colorbar": {
              "outlinewidth": 0,
              "ticks": ""
             }
            },
            "type": "histogram"
           }
          ],
          "histogram2d": [
           {
            "colorbar": {
             "outlinewidth": 0,
             "ticks": ""
            },
            "colorscale": [
             [
              0,
              "#0d0887"
             ],
             [
              0.1111111111111111,
              "#46039f"
             ],
             [
              0.2222222222222222,
              "#7201a8"
             ],
             [
              0.3333333333333333,
              "#9c179e"
             ],
             [
              0.4444444444444444,
              "#bd3786"
             ],
             [
              0.5555555555555556,
              "#d8576b"
             ],
             [
              0.6666666666666666,
              "#ed7953"
             ],
             [
              0.7777777777777778,
              "#fb9f3a"
             ],
             [
              0.8888888888888888,
              "#fdca26"
             ],
             [
              1,
              "#f0f921"
             ]
            ],
            "type": "histogram2d"
           }
          ],
          "histogram2dcontour": [
           {
            "colorbar": {
             "outlinewidth": 0,
             "ticks": ""
            },
            "colorscale": [
             [
              0,
              "#0d0887"
             ],
             [
              0.1111111111111111,
              "#46039f"
             ],
             [
              0.2222222222222222,
              "#7201a8"
             ],
             [
              0.3333333333333333,
              "#9c179e"
             ],
             [
              0.4444444444444444,
              "#bd3786"
             ],
             [
              0.5555555555555556,
              "#d8576b"
             ],
             [
              0.6666666666666666,
              "#ed7953"
             ],
             [
              0.7777777777777778,
              "#fb9f3a"
             ],
             [
              0.8888888888888888,
              "#fdca26"
             ],
             [
              1,
              "#f0f921"
             ]
            ],
            "type": "histogram2dcontour"
           }
          ],
          "mesh3d": [
           {
            "colorbar": {
             "outlinewidth": 0,
             "ticks": ""
            },
            "type": "mesh3d"
           }
          ],
          "parcoords": [
           {
            "line": {
             "colorbar": {
              "outlinewidth": 0,
              "ticks": ""
             }
            },
            "type": "parcoords"
           }
          ],
          "pie": [
           {
            "automargin": true,
            "type": "pie"
           }
          ],
          "scatter": [
           {
            "marker": {
             "colorbar": {
              "outlinewidth": 0,
              "ticks": ""
             }
            },
            "type": "scatter"
           }
          ],
          "scatter3d": [
           {
            "line": {
             "colorbar": {
              "outlinewidth": 0,
              "ticks": ""
             }
            },
            "marker": {
             "colorbar": {
              "outlinewidth": 0,
              "ticks": ""
             }
            },
            "type": "scatter3d"
           }
          ],
          "scattercarpet": [
           {
            "marker": {
             "colorbar": {
              "outlinewidth": 0,
              "ticks": ""
             }
            },
            "type": "scattercarpet"
           }
          ],
          "scattergeo": [
           {
            "marker": {
             "colorbar": {
              "outlinewidth": 0,
              "ticks": ""
             }
            },
            "type": "scattergeo"
           }
          ],
          "scattergl": [
           {
            "marker": {
             "colorbar": {
              "outlinewidth": 0,
              "ticks": ""
             }
            },
            "type": "scattergl"
           }
          ],
          "scattermapbox": [
           {
            "marker": {
             "colorbar": {
              "outlinewidth": 0,
              "ticks": ""
             }
            },
            "type": "scattermapbox"
           }
          ],
          "scatterpolar": [
           {
            "marker": {
             "colorbar": {
              "outlinewidth": 0,
              "ticks": ""
             }
            },
            "type": "scatterpolar"
           }
          ],
          "scatterpolargl": [
           {
            "marker": {
             "colorbar": {
              "outlinewidth": 0,
              "ticks": ""
             }
            },
            "type": "scatterpolargl"
           }
          ],
          "scatterternary": [
           {
            "marker": {
             "colorbar": {
              "outlinewidth": 0,
              "ticks": ""
             }
            },
            "type": "scatterternary"
           }
          ],
          "surface": [
           {
            "colorbar": {
             "outlinewidth": 0,
             "ticks": ""
            },
            "colorscale": [
             [
              0,
              "#0d0887"
             ],
             [
              0.1111111111111111,
              "#46039f"
             ],
             [
              0.2222222222222222,
              "#7201a8"
             ],
             [
              0.3333333333333333,
              "#9c179e"
             ],
             [
              0.4444444444444444,
              "#bd3786"
             ],
             [
              0.5555555555555556,
              "#d8576b"
             ],
             [
              0.6666666666666666,
              "#ed7953"
             ],
             [
              0.7777777777777778,
              "#fb9f3a"
             ],
             [
              0.8888888888888888,
              "#fdca26"
             ],
             [
              1,
              "#f0f921"
             ]
            ],
            "type": "surface"
           }
          ],
          "table": [
           {
            "cells": {
             "fill": {
              "color": "#EBF0F8"
             },
             "line": {
              "color": "white"
             }
            },
            "header": {
             "fill": {
              "color": "#C8D4E3"
             },
             "line": {
              "color": "white"
             }
            },
            "type": "table"
           }
          ]
         },
         "layout": {
          "annotationdefaults": {
           "arrowcolor": "#2a3f5f",
           "arrowhead": 0,
           "arrowwidth": 1
          },
          "coloraxis": {
           "colorbar": {
            "outlinewidth": 0,
            "ticks": ""
           }
          },
          "colorscale": {
           "diverging": [
            [
             0,
             "#8e0152"
            ],
            [
             0.1,
             "#c51b7d"
            ],
            [
             0.2,
             "#de77ae"
            ],
            [
             0.3,
             "#f1b6da"
            ],
            [
             0.4,
             "#fde0ef"
            ],
            [
             0.5,
             "#f7f7f7"
            ],
            [
             0.6,
             "#e6f5d0"
            ],
            [
             0.7,
             "#b8e186"
            ],
            [
             0.8,
             "#7fbc41"
            ],
            [
             0.9,
             "#4d9221"
            ],
            [
             1,
             "#276419"
            ]
           ],
           "sequential": [
            [
             0,
             "#0d0887"
            ],
            [
             0.1111111111111111,
             "#46039f"
            ],
            [
             0.2222222222222222,
             "#7201a8"
            ],
            [
             0.3333333333333333,
             "#9c179e"
            ],
            [
             0.4444444444444444,
             "#bd3786"
            ],
            [
             0.5555555555555556,
             "#d8576b"
            ],
            [
             0.6666666666666666,
             "#ed7953"
            ],
            [
             0.7777777777777778,
             "#fb9f3a"
            ],
            [
             0.8888888888888888,
             "#fdca26"
            ],
            [
             1,
             "#f0f921"
            ]
           ],
           "sequentialminus": [
            [
             0,
             "#0d0887"
            ],
            [
             0.1111111111111111,
             "#46039f"
            ],
            [
             0.2222222222222222,
             "#7201a8"
            ],
            [
             0.3333333333333333,
             "#9c179e"
            ],
            [
             0.4444444444444444,
             "#bd3786"
            ],
            [
             0.5555555555555556,
             "#d8576b"
            ],
            [
             0.6666666666666666,
             "#ed7953"
            ],
            [
             0.7777777777777778,
             "#fb9f3a"
            ],
            [
             0.8888888888888888,
             "#fdca26"
            ],
            [
             1,
             "#f0f921"
            ]
           ]
          },
          "colorway": [
           "#636efa",
           "#EF553B",
           "#00cc96",
           "#ab63fa",
           "#FFA15A",
           "#19d3f3",
           "#FF6692",
           "#B6E880",
           "#FF97FF",
           "#FECB52"
          ],
          "font": {
           "color": "#2a3f5f"
          },
          "geo": {
           "bgcolor": "white",
           "lakecolor": "white",
           "landcolor": "#E5ECF6",
           "showlakes": true,
           "showland": true,
           "subunitcolor": "white"
          },
          "hoverlabel": {
           "align": "left"
          },
          "hovermode": "closest",
          "mapbox": {
           "style": "light"
          },
          "paper_bgcolor": "white",
          "plot_bgcolor": "#E5ECF6",
          "polar": {
           "angularaxis": {
            "gridcolor": "white",
            "linecolor": "white",
            "ticks": ""
           },
           "bgcolor": "#E5ECF6",
           "radialaxis": {
            "gridcolor": "white",
            "linecolor": "white",
            "ticks": ""
           }
          },
          "scene": {
           "xaxis": {
            "backgroundcolor": "#E5ECF6",
            "gridcolor": "white",
            "gridwidth": 2,
            "linecolor": "white",
            "showbackground": true,
            "ticks": "",
            "zerolinecolor": "white"
           },
           "yaxis": {
            "backgroundcolor": "#E5ECF6",
            "gridcolor": "white",
            "gridwidth": 2,
            "linecolor": "white",
            "showbackground": true,
            "ticks": "",
            "zerolinecolor": "white"
           },
           "zaxis": {
            "backgroundcolor": "#E5ECF6",
            "gridcolor": "white",
            "gridwidth": 2,
            "linecolor": "white",
            "showbackground": true,
            "ticks": "",
            "zerolinecolor": "white"
           }
          },
          "shapedefaults": {
           "line": {
            "color": "#2a3f5f"
           }
          },
          "ternary": {
           "aaxis": {
            "gridcolor": "white",
            "linecolor": "white",
            "ticks": ""
           },
           "baxis": {
            "gridcolor": "white",
            "linecolor": "white",
            "ticks": ""
           },
           "bgcolor": "#E5ECF6",
           "caxis": {
            "gridcolor": "white",
            "linecolor": "white",
            "ticks": ""
           }
          },
          "title": {
           "x": 0.05
          },
          "xaxis": {
           "automargin": true,
           "gridcolor": "white",
           "linecolor": "white",
           "ticks": "",
           "title": {
            "standoff": 15
           },
           "zerolinecolor": "white",
           "zerolinewidth": 2
          },
          "yaxis": {
           "automargin": true,
           "gridcolor": "white",
           "linecolor": "white",
           "ticks": "",
           "title": {
            "standoff": 15
           },
           "zerolinecolor": "white",
           "zerolinewidth": 2
          }
         }
        },
        "title": {
         "font": {
          "color": "#4D5663"
         },
         "text": "Number of Tweets per County in UK and Ireland"
        },
        "xaxis": {
         "gridcolor": "#E1E5ED",
         "showgrid": true,
         "tickfont": {
          "color": "#4D5663"
         },
         "title": {
          "font": {
           "color": "#4D5663"
          },
          "text": ""
         },
         "zerolinecolor": "#E1E5ED"
        },
        "yaxis": {
         "gridcolor": "#E1E5ED",
         "showgrid": true,
         "tickfont": {
          "color": "#4D5663"
         },
         "title": {
          "font": {
           "color": "#4D5663"
          },
          "text": "Number of tweets"
         },
         "zerolinecolor": "#E1E5ED"
        }
       }
      },
      "text/html": [
       "<div>\n",
       "        \n",
       "        \n",
       "            <div id=\"43aa891a-71c8-41d6-8a68-e3349cbfbb6b\" class=\"plotly-graph-div\" style=\"height:525px; width:100%;\"></div>\n",
       "            <script type=\"text/javascript\">\n",
       "                require([\"plotly\"], function(Plotly) {\n",
       "                    window.PLOTLYENV=window.PLOTLYENV || {};\n",
       "                    window.PLOTLYENV.BASE_URL='https://plot.ly';\n",
       "                    \n",
       "                if (document.getElementById(\"43aa891a-71c8-41d6-8a68-e3349cbfbb6b\")) {\n",
       "                    Plotly.newPlot(\n",
       "                        '43aa891a-71c8-41d6-8a68-e3349cbfbb6b',\n",
       "                        [{\"marker\": {\"color\": \"rgba(255, 153, 51, 0.6)\", \"line\": {\"color\": \"rgba(255, 153, 51, 1.0)\", \"width\": 1}}, \"name\": \"County\", \"orientation\": \"v\", \"text\": \"\", \"type\": \"bar\", \"x\": [\"Greater London\", \"Greater Manchester\", \"Essex\", \"West Yorkshire\", \"West Midlands\", \"Kent\", \"Lancashire\", \"Surrey\", \"Tyne and Wear\", \"Hertfordshire\", \"Merseyside\", \"Suffolk\", \"South Yorkshire\", \"Glasgow City\", \"West Sussex\", \"Edinburgh\", \"Cambridgeshire\", \"Devon\", \"Brighton and Hove\", \"Nottinghamshire\", \"Norfolk\", \"Hampshire\", \"Shropshire\", \"Dorset\", \"Cumbria\", \"Oxfordshire\", \"Cornwall\", \"City of Bristol\", \"Lincolnshire\", \"Gloucestershire\", \"Northamptonshire\", \"Buckinghamshire\", \"Derbyshire\", \"Worcestershire\", \"North Yorkshire\", \"Belfast\", \"Somerset\", \"Staffordshire\", \"Cheshire East\", \"Cardiff\", \"East Sussex\", \"Derby\", \"Stoke-on-Trent\", \"Leicestershire\", \"Warwickshire\", \"Southampton\", \"County Durham\", \"Southend-on-Sea\", \"Central Bedfordshire\", \"York\", \"Leicester\", \"North Lanarkshire\", \"Cheshire West and Chester\", \"Highland Council\", \"Bath and North East Somerset\", \"Isle of Wight\", \"Conwy Principal Area\", \"Renfrewshire\", \"Aberdeenshire\", \"Windsor and Maidenhead\", \"Swansea\", \"Northumberland\", \"Fife\", \"Herefordshire\", \"Gwynedd\", \"Reading\", \"Plymouth\", \"Wiltshire\", \"Portsmouth\", \"North East Lincolnshire\", \"Dundee City Council\", \"Milton Keynes\", \"East Riding of Yorkshire\", \"Bedford\", \"Kingston upon Hull\", \"Angus council\", \"Powys\", \"Rhondda Cynon Taff\", \"South Lanarkshire\", \"South Gloucestershire\", \"Aberdeen City\", \"Ynys M\\u00f4n\", \"Slough\", \"Scottish Borders\", \"Orkney\", \"North Somerset\", \"Newport\", \"Perth and Kinross\", \"Flintshire\", \"Blackpool\", \"Newry, Mourne And Down\", \"Swindon\", \"Wokingham\", \"Pembrokeshire\", \"Mid And East Antrim\", \"Stirling\", \"North Lincolnshire\", \"Stockton-on-Tees\", \"Medway\", \"Luton\", \"Torbay\", \"Borough of Halton\", \"West Berkshire\", \"Shetland Islands\", \"East Lothian Council\", \"North Ayrshire Council\", \"Na h-Eileanan an Iar\", \"Denbighshire\", \"Middlesbrough\", \"Antrim And Newtownabbey\", \"Vale of Glamorgan\", \"Dumfries and Galloway\", \"Warrington\", \"Monmouthshire\", \"Caerphilly County Borough\", \"Wrexham Principal Area\", \"South Ayrshire Council\", \"Falkirk\", \"Armagh City, Banbridge And Craigavon\", \"Carmarthenshire\", \"Hartlepool\", \"Ceredigion\", \"Argyll and Bute Council\", \"Causeway Coast and Glens\", \"West Lothian\", \"Peterborough\", \"Lisburn and Castlereagh\", \"Bridgend County Borough\", \"West Dunbartonshire Council\", \"Darlington\", \"East Ayrshire Council\", \"Rutland\", \"Sir Ceredigion\", \"Ards And North Down\", \"Blackburn with Darwen\", \"Midlothian\", \"Neath Port Talbot Principle Area\", \"Redcar and Cleveland\", \"Derry And Strabane\", \"East Dunbartonshire Council\", \"Inverclyde\", \"Isle of Anglesey\", \"Bracknell Forest\", \"Mid Ulster\", \"Torfaen Principal Area\", \"East Renfrewshire Council\", \"Moray\", \"Sir Gaerfyrddin\", \"Sir Ddinbych\", \"Blaenau Gwent\", \"Clackmannanshire\", \"Merthyr Tydfil County Borough\", \"Pen-y-bont ar Ogwr\", \"Fermanagh And Omagh\", \"Isles of Scilly\", \"Caerdydd\", \"Conwy\", \"Castell-nedd Port Talbot\", \"Caerffili\"], \"y\": [17132, 2571, 2114, 2049, 1589, 1550, 1419, 1380, 1261, 1257, 1182, 1049, 941, 882, 769, 767, 746, 728, 708, 704, 703, 674, 652, 636, 617, 607, 593, 584, 578, 576, 528, 505, 490, 474, 469, 451, 450, 442, 439, 423, 386, 373, 355, 348, 348, 330, 326, 297, 279, 277, 263, 251, 248, 240, 234, 230, 228, 218, 217, 215, 211, 209, 208, 202, 197, 191, 183, 183, 181, 162, 161, 158, 156, 154, 149, 147, 142, 137, 137, 136, 135, 130, 130, 129, 128, 118, 110, 110, 108, 105, 105, 100, 99, 96, 95, 93, 91, 83, 81, 81, 80, 80, 74, 73, 72, 70, 68, 67, 67, 66, 66, 66, 64, 64, 63, 61, 60, 60, 60, 59, 59, 58, 57, 55, 53, 53, 53, 52, 49, 46, 44, 43, 41, 41, 40, 39, 38, 37, 36, 34, 34, 33, 33, 32, 27, 25, 20, 18, 17, 16, 15, 12, 7, 7, 5, 4, 4, 2, 1]}],\n",
       "                        {\"legend\": {\"bgcolor\": \"#F5F6F9\", \"font\": {\"color\": \"#4D5663\"}}, \"paper_bgcolor\": \"#F5F6F9\", \"plot_bgcolor\": \"#F5F6F9\", \"template\": {\"data\": {\"bar\": [{\"error_x\": {\"color\": \"#2a3f5f\"}, \"error_y\": {\"color\": \"#2a3f5f\"}, \"marker\": {\"line\": {\"color\": \"#E5ECF6\", \"width\": 0.5}}, \"type\": \"bar\"}], \"barpolar\": [{\"marker\": {\"line\": {\"color\": \"#E5ECF6\", \"width\": 0.5}}, \"type\": \"barpolar\"}], \"carpet\": [{\"aaxis\": {\"endlinecolor\": \"#2a3f5f\", \"gridcolor\": \"white\", \"linecolor\": \"white\", \"minorgridcolor\": \"white\", \"startlinecolor\": \"#2a3f5f\"}, \"baxis\": {\"endlinecolor\": \"#2a3f5f\", \"gridcolor\": \"white\", \"linecolor\": \"white\", \"minorgridcolor\": \"white\", \"startlinecolor\": \"#2a3f5f\"}, \"type\": \"carpet\"}], \"choropleth\": [{\"colorbar\": {\"outlinewidth\": 0, \"ticks\": \"\"}, \"type\": \"choropleth\"}], \"contour\": [{\"colorbar\": {\"outlinewidth\": 0, \"ticks\": \"\"}, \"colorscale\": [[0.0, \"#0d0887\"], [0.1111111111111111, \"#46039f\"], [0.2222222222222222, \"#7201a8\"], [0.3333333333333333, \"#9c179e\"], [0.4444444444444444, \"#bd3786\"], [0.5555555555555556, \"#d8576b\"], [0.6666666666666666, \"#ed7953\"], [0.7777777777777778, \"#fb9f3a\"], [0.8888888888888888, \"#fdca26\"], [1.0, \"#f0f921\"]], \"type\": \"contour\"}], \"contourcarpet\": [{\"colorbar\": {\"outlinewidth\": 0, \"ticks\": \"\"}, \"type\": \"contourcarpet\"}], \"heatmap\": [{\"colorbar\": {\"outlinewidth\": 0, \"ticks\": \"\"}, \"colorscale\": [[0.0, \"#0d0887\"], [0.1111111111111111, \"#46039f\"], [0.2222222222222222, \"#7201a8\"], [0.3333333333333333, \"#9c179e\"], [0.4444444444444444, \"#bd3786\"], [0.5555555555555556, \"#d8576b\"], [0.6666666666666666, \"#ed7953\"], [0.7777777777777778, \"#fb9f3a\"], [0.8888888888888888, \"#fdca26\"], [1.0, \"#f0f921\"]], \"type\": \"heatmap\"}], \"heatmapgl\": [{\"colorbar\": {\"outlinewidth\": 0, \"ticks\": \"\"}, \"colorscale\": [[0.0, \"#0d0887\"], [0.1111111111111111, \"#46039f\"], [0.2222222222222222, \"#7201a8\"], [0.3333333333333333, \"#9c179e\"], [0.4444444444444444, \"#bd3786\"], [0.5555555555555556, \"#d8576b\"], [0.6666666666666666, \"#ed7953\"], [0.7777777777777778, \"#fb9f3a\"], [0.8888888888888888, \"#fdca26\"], [1.0, \"#f0f921\"]], \"type\": \"heatmapgl\"}], \"histogram\": [{\"marker\": {\"colorbar\": {\"outlinewidth\": 0, \"ticks\": \"\"}}, \"type\": \"histogram\"}], \"histogram2d\": [{\"colorbar\": {\"outlinewidth\": 0, \"ticks\": \"\"}, \"colorscale\": [[0.0, \"#0d0887\"], [0.1111111111111111, \"#46039f\"], [0.2222222222222222, \"#7201a8\"], [0.3333333333333333, \"#9c179e\"], [0.4444444444444444, \"#bd3786\"], [0.5555555555555556, \"#d8576b\"], [0.6666666666666666, \"#ed7953\"], [0.7777777777777778, \"#fb9f3a\"], [0.8888888888888888, \"#fdca26\"], [1.0, \"#f0f921\"]], \"type\": \"histogram2d\"}], \"histogram2dcontour\": [{\"colorbar\": {\"outlinewidth\": 0, \"ticks\": \"\"}, \"colorscale\": [[0.0, \"#0d0887\"], [0.1111111111111111, \"#46039f\"], [0.2222222222222222, \"#7201a8\"], [0.3333333333333333, \"#9c179e\"], [0.4444444444444444, \"#bd3786\"], [0.5555555555555556, \"#d8576b\"], [0.6666666666666666, \"#ed7953\"], [0.7777777777777778, \"#fb9f3a\"], [0.8888888888888888, \"#fdca26\"], [1.0, \"#f0f921\"]], \"type\": \"histogram2dcontour\"}], \"mesh3d\": [{\"colorbar\": {\"outlinewidth\": 0, \"ticks\": \"\"}, \"type\": \"mesh3d\"}], \"parcoords\": [{\"line\": {\"colorbar\": {\"outlinewidth\": 0, \"ticks\": \"\"}}, \"type\": \"parcoords\"}], \"pie\": [{\"automargin\": true, \"type\": \"pie\"}], \"scatter\": [{\"marker\": {\"colorbar\": {\"outlinewidth\": 0, \"ticks\": \"\"}}, \"type\": \"scatter\"}], \"scatter3d\": [{\"line\": {\"colorbar\": {\"outlinewidth\": 0, \"ticks\": \"\"}}, \"marker\": {\"colorbar\": {\"outlinewidth\": 0, \"ticks\": \"\"}}, \"type\": \"scatter3d\"}], \"scattercarpet\": [{\"marker\": {\"colorbar\": {\"outlinewidth\": 0, \"ticks\": \"\"}}, \"type\": \"scattercarpet\"}], \"scattergeo\": [{\"marker\": {\"colorbar\": {\"outlinewidth\": 0, \"ticks\": \"\"}}, \"type\": \"scattergeo\"}], \"scattergl\": [{\"marker\": {\"colorbar\": {\"outlinewidth\": 0, \"ticks\": \"\"}}, \"type\": \"scattergl\"}], \"scattermapbox\": [{\"marker\": {\"colorbar\": {\"outlinewidth\": 0, \"ticks\": \"\"}}, \"type\": \"scattermapbox\"}], \"scatterpolar\": [{\"marker\": {\"colorbar\": {\"outlinewidth\": 0, \"ticks\": \"\"}}, \"type\": \"scatterpolar\"}], \"scatterpolargl\": [{\"marker\": {\"colorbar\": {\"outlinewidth\": 0, \"ticks\": \"\"}}, \"type\": \"scatterpolargl\"}], \"scatterternary\": [{\"marker\": {\"colorbar\": {\"outlinewidth\": 0, \"ticks\": \"\"}}, \"type\": \"scatterternary\"}], \"surface\": [{\"colorbar\": {\"outlinewidth\": 0, \"ticks\": \"\"}, \"colorscale\": [[0.0, \"#0d0887\"], [0.1111111111111111, \"#46039f\"], [0.2222222222222222, \"#7201a8\"], [0.3333333333333333, \"#9c179e\"], [0.4444444444444444, \"#bd3786\"], [0.5555555555555556, \"#d8576b\"], [0.6666666666666666, \"#ed7953\"], [0.7777777777777778, \"#fb9f3a\"], [0.8888888888888888, \"#fdca26\"], [1.0, \"#f0f921\"]], \"type\": \"surface\"}], \"table\": [{\"cells\": {\"fill\": {\"color\": \"#EBF0F8\"}, \"line\": {\"color\": \"white\"}}, \"header\": {\"fill\": {\"color\": \"#C8D4E3\"}, \"line\": {\"color\": \"white\"}}, \"type\": \"table\"}]}, \"layout\": {\"annotationdefaults\": {\"arrowcolor\": \"#2a3f5f\", \"arrowhead\": 0, \"arrowwidth\": 1}, \"coloraxis\": {\"colorbar\": {\"outlinewidth\": 0, \"ticks\": \"\"}}, \"colorscale\": {\"diverging\": [[0, \"#8e0152\"], [0.1, \"#c51b7d\"], [0.2, \"#de77ae\"], [0.3, \"#f1b6da\"], [0.4, \"#fde0ef\"], [0.5, \"#f7f7f7\"], [0.6, \"#e6f5d0\"], [0.7, \"#b8e186\"], [0.8, \"#7fbc41\"], [0.9, \"#4d9221\"], [1, \"#276419\"]], \"sequential\": [[0.0, \"#0d0887\"], [0.1111111111111111, \"#46039f\"], [0.2222222222222222, \"#7201a8\"], [0.3333333333333333, \"#9c179e\"], [0.4444444444444444, \"#bd3786\"], [0.5555555555555556, \"#d8576b\"], [0.6666666666666666, \"#ed7953\"], [0.7777777777777778, \"#fb9f3a\"], [0.8888888888888888, \"#fdca26\"], [1.0, \"#f0f921\"]], \"sequentialminus\": [[0.0, \"#0d0887\"], [0.1111111111111111, \"#46039f\"], [0.2222222222222222, \"#7201a8\"], [0.3333333333333333, \"#9c179e\"], [0.4444444444444444, \"#bd3786\"], [0.5555555555555556, \"#d8576b\"], [0.6666666666666666, \"#ed7953\"], [0.7777777777777778, \"#fb9f3a\"], [0.8888888888888888, \"#fdca26\"], [1.0, \"#f0f921\"]]}, \"colorway\": [\"#636efa\", \"#EF553B\", \"#00cc96\", \"#ab63fa\", \"#FFA15A\", \"#19d3f3\", \"#FF6692\", \"#B6E880\", \"#FF97FF\", \"#FECB52\"], \"font\": {\"color\": \"#2a3f5f\"}, \"geo\": {\"bgcolor\": \"white\", \"lakecolor\": \"white\", \"landcolor\": \"#E5ECF6\", \"showlakes\": true, \"showland\": true, \"subunitcolor\": \"white\"}, \"hoverlabel\": {\"align\": \"left\"}, \"hovermode\": \"closest\", \"mapbox\": {\"style\": \"light\"}, \"paper_bgcolor\": \"white\", \"plot_bgcolor\": \"#E5ECF6\", \"polar\": {\"angularaxis\": {\"gridcolor\": \"white\", \"linecolor\": \"white\", \"ticks\": \"\"}, \"bgcolor\": \"#E5ECF6\", \"radialaxis\": {\"gridcolor\": \"white\", \"linecolor\": \"white\", \"ticks\": \"\"}}, \"scene\": {\"xaxis\": {\"backgroundcolor\": \"#E5ECF6\", \"gridcolor\": \"white\", \"gridwidth\": 2, \"linecolor\": \"white\", \"showbackground\": true, \"ticks\": \"\", \"zerolinecolor\": \"white\"}, \"yaxis\": {\"backgroundcolor\": \"#E5ECF6\", \"gridcolor\": \"white\", \"gridwidth\": 2, \"linecolor\": \"white\", \"showbackground\": true, \"ticks\": \"\", \"zerolinecolor\": \"white\"}, \"zaxis\": {\"backgroundcolor\": \"#E5ECF6\", \"gridcolor\": \"white\", \"gridwidth\": 2, \"linecolor\": \"white\", \"showbackground\": true, \"ticks\": \"\", \"zerolinecolor\": \"white\"}}, \"shapedefaults\": {\"line\": {\"color\": \"#2a3f5f\"}}, \"ternary\": {\"aaxis\": {\"gridcolor\": \"white\", \"linecolor\": \"white\", \"ticks\": \"\"}, \"baxis\": {\"gridcolor\": \"white\", \"linecolor\": \"white\", \"ticks\": \"\"}, \"bgcolor\": \"#E5ECF6\", \"caxis\": {\"gridcolor\": \"white\", \"linecolor\": \"white\", \"ticks\": \"\"}}, \"title\": {\"x\": 0.05}, \"xaxis\": {\"automargin\": true, \"gridcolor\": \"white\", \"linecolor\": \"white\", \"ticks\": \"\", \"title\": {\"standoff\": 15}, \"zerolinecolor\": \"white\", \"zerolinewidth\": 2}, \"yaxis\": {\"automargin\": true, \"gridcolor\": \"white\", \"linecolor\": \"white\", \"ticks\": \"\", \"title\": {\"standoff\": 15}, \"zerolinecolor\": \"white\", \"zerolinewidth\": 2}}}, \"title\": {\"font\": {\"color\": \"#4D5663\"}, \"text\": \"Number of Tweets per County in UK and Ireland\"}, \"xaxis\": {\"gridcolor\": \"#E1E5ED\", \"showgrid\": true, \"tickfont\": {\"color\": \"#4D5663\"}, \"title\": {\"font\": {\"color\": \"#4D5663\"}, \"text\": \"\"}, \"zerolinecolor\": \"#E1E5ED\"}, \"yaxis\": {\"gridcolor\": \"#E1E5ED\", \"showgrid\": true, \"tickfont\": {\"color\": \"#4D5663\"}, \"title\": {\"font\": {\"color\": \"#4D5663\"}, \"text\": \"Number of tweets\"}, \"zerolinecolor\": \"#E1E5ED\"}},\n",
       "                        {\"showLink\": true, \"linkText\": \"Export to plot.ly\", \"plotlyServerURL\": \"https://plot.ly\", \"responsive\": true}\n",
       "                    ).then(function(){\n",
       "                            \n",
       "var gd = document.getElementById('43aa891a-71c8-41d6-8a68-e3349cbfbb6b');\n",
       "var x = new MutationObserver(function (mutations, observer) {{\n",
       "        var display = window.getComputedStyle(gd).display;\n",
       "        if (!display || display === 'none') {{\n",
       "            console.log([gd, 'removed!']);\n",
       "            Plotly.purge(gd);\n",
       "            observer.disconnect();\n",
       "        }}\n",
       "}});\n",
       "\n",
       "// Listen for the removal of the full notebook cells\n",
       "var notebookContainer = gd.closest('#notebook-container');\n",
       "if (notebookContainer) {{\n",
       "    x.observe(notebookContainer, {childList: true});\n",
       "}}\n",
       "\n",
       "// Listen for the clearing of the current output cell\n",
       "var outputEl = gd.closest('.output');\n",
       "if (outputEl) {{\n",
       "    x.observe(outputEl, {childList: true});\n",
       "}}\n",
       "\n",
       "                        })\n",
       "                };\n",
       "                });\n",
       "            </script>\n",
       "        </div>"
      ]
     },
     "metadata": {},
     "output_type": "display_data"
    }
   ],
   "source": [
    "df['County'].value_counts().sort_values(ascending=False).iplot(kind='bar', yTitle='Number of tweets', \n",
    "                                                                title='Number of Tweets per County in UK and Ireland')"
   ]
  },
  {
   "cell_type": "markdown",
   "metadata": {},
   "source": [
    "## LSTM Modeling\n",
    "\n",
    "- Vectorize tweet text, by turning each text into either a sequence of integers or into a vector.\n",
    "- Limit the data set to the top 5,0000 words.\n",
    "- Set the max number of words in each text at 250."
   ]
  },
  {
   "cell_type": "code",
   "execution_count": 8,
   "metadata": {},
   "outputs": [
    {
     "name": "stdout",
     "output_type": "stream",
     "text": [
      "Found 56205 unique tokens.\n"
     ]
    }
   ],
   "source": [
    "# The maximum number of words to be used. (most frequent)\n",
    "MAX_NB_WORDS = 50000\n",
    "# Max number of words in each complaint.\n",
    "MAX_SEQUENCE_LENGTH = 250\n",
    "# This is fixed.\n",
    "EMBEDDING_DIM = 100\n",
    "\n",
    "\n",
    "tokenizer = Tokenizer(num_words=MAX_NB_WORDS, filters='!\"#$%&()*+,-./:;<=>?@[\\]^_`{|}~', lower=True)\n",
    "tokenizer.fit_on_texts(df['Text_Clean'].values)\n",
    "word_index = tokenizer.word_index\n",
    "print('Found %s unique tokens.' % len(word_index))"
   ]
  },
  {
   "cell_type": "code",
   "execution_count": 9,
   "metadata": {},
   "outputs": [
    {
     "name": "stdout",
     "output_type": "stream",
     "text": [
      "Shape of data tensor: (65463, 250)\n"
     ]
    }
   ],
   "source": [
    "#Truncate and pad the input sequences so that they are all in the same length for modeling.\n",
    "\n",
    "X = tokenizer.texts_to_sequences(df['Text_Clean'].values)\n",
    "X = pad_sequences(X, maxlen=MAX_SEQUENCE_LENGTH)\n",
    "print('Shape of data tensor:', X.shape)"
   ]
  },
  {
   "cell_type": "code",
   "execution_count": 11,
   "metadata": {},
   "outputs": [
    {
     "name": "stdout",
     "output_type": "stream",
     "text": [
      "Shape of label tensor: (65463, 159)\n"
     ]
    }
   ],
   "source": [
    "#Converting categorical labels to numbers.\n",
    "Y = pd.get_dummies(df['County']).values\n",
    "print('Shape of label tensor:', Y.shape)"
   ]
  },
  {
   "cell_type": "code",
   "execution_count": 13,
   "metadata": {},
   "outputs": [
    {
     "name": "stdout",
     "output_type": "stream",
     "text": [
      "(43860, 250) (43860, 159)\n",
      "(21603, 250) (21603, 159)\n"
     ]
    }
   ],
   "source": [
    "# Train test split\n",
    "X_train, X_test, Y_train, Y_test = train_test_split(X,Y, test_size = 0.33, random_state = 42)\n",
    "print(X_train.shape,Y_train.shape)\n",
    "print(X_test.shape,Y_test.shape)"
   ]
  },
  {
   "cell_type": "markdown",
   "metadata": {},
   "source": [
    "## Making the model\n",
    "\n",
    "- The first layer is the embedded layer that uses 100 length vectors to represent each word.\n",
    "- SpatialDropout1D performs variational dropout in NLP models.\n",
    "- The next layer is the LSTM layer with 100 memory units.\n",
    "- The output layer must create 159 output values, one for each county.\n",
    "\n",
    "- Activation function is softmax for multi-class classification.\n",
    "- Because it is a multi-class classification problem, categorical_crossentropy is used as the loss function."
   ]
  },
  {
   "cell_type": "code",
   "execution_count": 15,
   "metadata": {},
   "outputs": [
    {
     "name": "stdout",
     "output_type": "stream",
     "text": [
      "WARNING:tensorflow:From C:\\ProgramData\\Anaconda3\\envs\\tweetenv\\lib\\site-packages\\tensorflow\\python\\ops\\math_ops.py:3066: to_int32 (from tensorflow.python.ops.math_ops) is deprecated and will be removed in a future version.\n",
      "Instructions for updating:\n",
      "Use tf.cast instead.\n",
      "Train on 39474 samples, validate on 4386 samples\n",
      "Epoch 1/5\n",
      "39474/39474 [==============================] - 246s 6ms/step - loss: 3.6136 - accuracy: 0.2909 - val_loss: 3.1939 - val_accuracy: 0.3454\n",
      "Epoch 2/5\n",
      "39474/39474 [==============================] - 255s 6ms/step - loss: 2.8027 - accuracy: 0.4327 - val_loss: 2.6437 - val_accuracy: 0.4936\n",
      "Epoch 3/5\n",
      "39474/39474 [==============================] - 254s 6ms/step - loss: 2.1059 - accuracy: 0.5719 - val_loss: 2.4571 - val_accuracy: 0.5438\n",
      "Epoch 4/5\n",
      "39474/39474 [==============================] - 252s 6ms/step - loss: 1.6195 - accuracy: 0.6594 - val_loss: 2.3942 - val_accuracy: 0.5584\n",
      "Epoch 5/5\n",
      "39474/39474 [==============================] - 252s 6ms/step - loss: 1.2765 - accuracy: 0.7280 - val_loss: 2.4414 - val_accuracy: 0.5618\n"
     ]
    }
   ],
   "source": [
    "model = Sequential()\n",
    "model.add(Embedding(MAX_NB_WORDS, EMBEDDING_DIM, input_length=X.shape[1]))\n",
    "model.add(SpatialDropout1D(0.2))\n",
    "model.add(LSTM(100, dropout=0.2, recurrent_dropout=0.2))\n",
    "model.add(Dense(159, activation='softmax'))\n",
    "model.compile(loss='categorical_crossentropy', optimizer='adam', metrics=['accuracy'])\n",
    "\n",
    "epochs = 5\n",
    "batch_size = 64\n",
    "\n",
    "history = model.fit(X_train, Y_train, epochs=epochs, batch_size=batch_size,validation_split=0.1,callbacks=[EarlyStopping(monitor='val_loss', patience=3, min_delta=0.0001)])\n"
   ]
  },
  {
   "cell_type": "code",
   "execution_count": 16,
   "metadata": {},
   "outputs": [
    {
     "name": "stdout",
     "output_type": "stream",
     "text": [
      "21603/21603 [==============================] - 42s 2ms/step\n",
      "Test set\n",
      "  Loss: 2.399\n",
      "  Accuracy: 0.569\n"
     ]
    }
   ],
   "source": [
    "# Evaluate accuracy\n",
    "\n",
    "accr = model.evaluate(X_test,Y_test)\n",
    "print('Test set\\n  Loss: {:0.3f}\\n  Accuracy: {:0.3f}'.format(accr[0],accr[1]))"
   ]
  },
  {
   "cell_type": "code",
   "execution_count": 17,
   "metadata": {},
   "outputs": [
    {
     "data": {
      "image/png": "[encoded data removed]",
      "text/plain": [
       "<Figure size 432x288 with 1 Axes>"
      ]
     },
     "metadata": {
      "needs_background": "light"
     },
     "output_type": "display_data"
    }
   ],
   "source": [
    "# Plotting loss\n",
    "plt.title('Loss')\n",
    "plt.plot(history.history['loss'], label='train')\n",
    "plt.plot(history.history['val_loss'], label='test')\n",
    "plt.legend()\n",
    "plt.show();"
   ]
  },
  {
   "cell_type": "code",
   "execution_count": 73,
   "metadata": {},
   "outputs": [],
   "source": [
    "#plotting accuracy\n",
    "\n",
    "# plt.title('Accuracy')\n",
    "# plt.plot(history.history['acc'], label='train')\n",
    "# plt.plot(history.history['val_acc'], label='test')\n",
    "# plt.legend()\n",
    "# plt.show();"
   ]
  },
  {
   "cell_type": "code",
   "execution_count": 29,
   "metadata": {},
   "outputs": [],
   "source": [
    "# save model\n",
    "model.save('saved_models/lstm_model.h5')"
   ]
  },
  {
   "cell_type": "code",
   "execution_count": 30,
   "metadata": {},
   "outputs": [],
   "source": [
    "## Testing with a new tweet"
   ]
  },
  {
   "cell_type": "code",
   "execution_count": 36,
   "metadata": {},
   "outputs": [
    {
     "data": {
      "text/plain": [
       "['Greater London',\n",
       " 'West Midlands',\n",
       " 'Greater London',\n",
       " 'Greater Manchester',\n",
       " 'Greater London',\n",
       " 'West Yorkshire',\n",
       " 'Greater London',\n",
       " 'Greater London',\n",
       " 'Norfolk',\n",
       " 'Greater London',\n",
       " 'Greater London',\n",
       " 'Greater London',\n",
       " 'Shropshire',\n",
       " 'Ards And North Down',\n",
       " 'Kent',\n",
       " 'Lancashire',\n",
       " 'Surrey',\n",
       " 'Renfrewshire',\n",
       " 'Essex',\n",
       " 'Cambridgeshire',\n",
       " 'Ynys Môn',\n",
       " 'Kent',\n",
       " 'Glasgow City',\n",
       " 'East Ayrshire Council',\n",
       " 'Orkney',\n",
       " 'Greater London',\n",
       " 'Suffolk',\n",
       " 'West Yorkshire',\n",
       " 'Cumbria',\n",
       " 'Buckinghamshire',\n",
       " 'Essex',\n",
       " 'Rhondda Cynon Taff',\n",
       " 'Tyne and Wear',\n",
       " 'Suffolk',\n",
       " 'Staffordshire',\n",
       " 'Tyne and Wear',\n",
       " 'Greater London',\n",
       " 'York',\n",
       " 'Greater Manchester',\n",
       " 'Edinburgh',\n",
       " 'Cardiff',\n",
       " 'Glasgow City',\n",
       " 'Greater London',\n",
       " 'Greater London',\n",
       " 'Greater London',\n",
       " 'Derry And Strabane',\n",
       " 'West Midlands',\n",
       " 'Tyne and Wear',\n",
       " 'Greater London',\n",
       " 'Greater London',\n",
       " 'Rhondda Cynon Taff',\n",
       " 'Devon',\n",
       " 'Northamptonshire',\n",
       " 'West Midlands',\n",
       " 'Greater London',\n",
       " 'Essex',\n",
       " 'Greater London',\n",
       " 'West Yorkshire',\n",
       " 'Kent',\n",
       " 'Aberdeen City',\n",
       " 'Cornwall',\n",
       " 'Merseyside',\n",
       " 'Derbyshire',\n",
       " 'West Midlands',\n",
       " 'Oxfordshire',\n",
       " 'Greater London',\n",
       " 'Worcestershire',\n",
       " 'Greater London',\n",
       " 'Greater London',\n",
       " 'Greater London',\n",
       " 'Greater London',\n",
       " 'Rhondda Cynon Taff',\n",
       " 'Leicester',\n",
       " 'Somerset',\n",
       " 'Newport',\n",
       " 'Milton Keynes',\n",
       " 'Derbyshire',\n",
       " 'Blackburn with Darwen',\n",
       " 'Greater London',\n",
       " 'Greater Manchester',\n",
       " 'Greater London',\n",
       " 'Greater Manchester',\n",
       " 'Greater London',\n",
       " 'South Yorkshire',\n",
       " 'West Midlands',\n",
       " 'Greater Manchester',\n",
       " 'West Yorkshire',\n",
       " 'Essex',\n",
       " 'Highland Council',\n",
       " 'Staffordshire',\n",
       " 'Greater London',\n",
       " 'North East Lincolnshire',\n",
       " 'Greater London',\n",
       " 'Rhondda Cynon Taff',\n",
       " 'Greater London',\n",
       " 'Cardiff',\n",
       " 'Cheshire East',\n",
       " 'Edinburgh',\n",
       " 'Greater Manchester',\n",
       " 'Greater London',\n",
       " 'Greater London',\n",
       " 'Cheshire West and Chester',\n",
       " 'Greater London',\n",
       " 'Greater London',\n",
       " 'Edinburgh',\n",
       " 'Greater London',\n",
       " 'Greater London',\n",
       " 'Norfolk',\n",
       " 'Greater London',\n",
       " 'Greater London',\n",
       " 'Rhondda Cynon Taff',\n",
       " 'Glasgow City',\n",
       " 'Hampshire',\n",
       " 'South Yorkshire',\n",
       " 'Lancashire',\n",
       " 'North East Lincolnshire',\n",
       " 'Derbyshire',\n",
       " 'Greater London',\n",
       " 'Cornwall',\n",
       " 'Greater London',\n",
       " 'East Ayrshire Council',\n",
       " 'Windsor and Maidenhead',\n",
       " 'Scottish Borders',\n",
       " 'Cornwall',\n",
       " 'Cumbria',\n",
       " 'Lancashire',\n",
       " 'Norfolk',\n",
       " 'Greater London',\n",
       " 'Rhondda Cynon Taff',\n",
       " 'East Ayrshire Council',\n",
       " 'Hampshire',\n",
       " 'Greater London',\n",
       " 'Belfast',\n",
       " 'Tyne and Wear',\n",
       " 'Greater London',\n",
       " 'Cumbria',\n",
       " 'Rhondda Cynon Taff',\n",
       " 'West Midlands',\n",
       " 'Essex',\n",
       " 'Greater Manchester',\n",
       " 'Brighton and Hove',\n",
       " 'Windsor and Maidenhead',\n",
       " 'Cheshire West and Chester',\n",
       " 'Gloucestershire',\n",
       " 'Cardiff',\n",
       " 'Kent',\n",
       " 'Northamptonshire',\n",
       " 'Buckinghamshire',\n",
       " 'Rhondda Cynon Taff',\n",
       " 'East Ayrshire Council',\n",
       " 'Greater Manchester',\n",
       " 'North Somerset',\n",
       " 'Greater London',\n",
       " 'South Yorkshire',\n",
       " 'Merseyside',\n",
       " 'Wiltshire',\n",
       " 'Oxfordshire',\n",
       " 'Greater London',\n",
       " 'City of Bristol',\n",
       " 'Greater London',\n",
       " 'North Yorkshire',\n",
       " 'Greater London',\n",
       " 'Greater Manchester',\n",
       " 'Greater London',\n",
       " 'Northamptonshire',\n",
       " 'Rhondda Cynon Taff',\n",
       " 'Edinburgh',\n",
       " 'Greater Manchester',\n",
       " 'Warwickshire',\n",
       " 'Northamptonshire',\n",
       " 'Lincolnshire',\n",
       " 'Lincolnshire',\n",
       " 'Cornwall',\n",
       " 'Greater London',\n",
       " 'Greater Manchester',\n",
       " 'Bath and North East Somerset',\n",
       " 'Greater London',\n",
       " 'Hampshire',\n",
       " 'Edinburgh',\n",
       " 'West Yorkshire',\n",
       " 'Greater London',\n",
       " 'Hertfordshire',\n",
       " 'Greater Manchester',\n",
       " 'West Midlands',\n",
       " 'Herefordshire',\n",
       " 'Central Bedfordshire',\n",
       " 'West Midlands',\n",
       " 'Derby',\n",
       " 'Essex',\n",
       " 'Northamptonshire',\n",
       " 'Wiltshire',\n",
       " 'Leicestershire',\n",
       " 'Blackpool',\n",
       " 'Rhondda Cynon Taff',\n",
       " 'Greater London',\n",
       " 'Greater London',\n",
       " 'Essex',\n",
       " 'Lancashire',\n",
       " 'Northamptonshire',\n",
       " 'Greater Manchester',\n",
       " 'Greater Manchester',\n",
       " 'Derbyshire',\n",
       " 'City of Bristol',\n",
       " 'Cambridgeshire',\n",
       " 'Worcestershire',\n",
       " 'Greater London',\n",
       " 'Greater Manchester',\n",
       " 'Greater Manchester',\n",
       " 'Rhondda Cynon Taff',\n",
       " 'Cambridgeshire',\n",
       " 'Greater London',\n",
       " 'Nottinghamshire',\n",
       " 'West Midlands',\n",
       " 'South Yorkshire',\n",
       " 'Leicestershire',\n",
       " 'Greater Manchester',\n",
       " 'North Somerset',\n",
       " 'Dorset',\n",
       " 'Glasgow City',\n",
       " 'Glasgow City',\n",
       " 'Glasgow City',\n",
       " 'Glasgow City',\n",
       " 'South Lanarkshire',\n",
       " 'Greater London',\n",
       " 'Surrey',\n",
       " 'Dorset',\n",
       " 'Essex',\n",
       " 'Belfast',\n",
       " 'Greater London',\n",
       " 'Suffolk',\n",
       " 'West Yorkshire',\n",
       " 'Greater London',\n",
       " 'Greater London',\n",
       " 'Greater London',\n",
       " 'Rhondda Cynon Taff',\n",
       " 'Edinburgh',\n",
       " 'West Lothian',\n",
       " 'Greater London',\n",
       " 'Greater London',\n",
       " 'North Lanarkshire',\n",
       " 'Greater London',\n",
       " 'Greater London',\n",
       " 'Edinburgh',\n",
       " 'Northumberland',\n",
       " 'Essex',\n",
       " 'Greater London',\n",
       " 'Cambridgeshire',\n",
       " 'Wiltshire',\n",
       " 'Rhondda Cynon Taff',\n",
       " 'Greater London',\n",
       " 'Hertfordshire',\n",
       " 'West Midlands',\n",
       " 'Moray',\n",
       " 'Cornwall',\n",
       " 'Greater London',\n",
       " 'Dorset',\n",
       " 'Northamptonshire',\n",
       " 'West Sussex',\n",
       " 'Derbyshire',\n",
       " 'Cardiff',\n",
       " 'Southend-on-Sea',\n",
       " 'Greater London',\n",
       " 'Somerset',\n",
       " 'Greater London',\n",
       " 'Southend-on-Sea',\n",
       " 'Greater London',\n",
       " 'Reading',\n",
       " 'Greater London',\n",
       " 'Essex',\n",
       " 'Somerset',\n",
       " 'Greater London',\n",
       " 'Greater London',\n",
       " 'Rhondda Cynon Taff',\n",
       " 'Greater Manchester',\n",
       " 'South Gloucestershire',\n",
       " 'Greater London',\n",
       " 'Greater London',\n",
       " 'Renfrewshire',\n",
       " 'Cambridgeshire',\n",
       " 'Greater London',\n",
       " 'Greater London',\n",
       " 'Greater London',\n",
       " 'Greater London',\n",
       " 'Greater London',\n",
       " 'Greater London',\n",
       " 'Bath and North East Somerset',\n",
       " 'Lancashire',\n",
       " 'Greater London',\n",
       " 'Cheshire East',\n",
       " 'Oxfordshire',\n",
       " 'Greater London',\n",
       " 'Greater Manchester',\n",
       " 'Cheshire West and Chester',\n",
       " 'Rhondda Cynon Taff',\n",
       " 'Greater London',\n",
       " 'Kent',\n",
       " 'Cheshire West and Chester',\n",
       " 'Greater London',\n",
       " 'Greater Manchester',\n",
       " 'Greater Manchester',\n",
       " 'Greater London',\n",
       " 'Surrey',\n",
       " 'City of Bristol',\n",
       " 'Cardiff',\n",
       " 'Cardiff',\n",
       " 'West Yorkshire',\n",
       " 'Rhondda Cynon Taff',\n",
       " 'Greater London',\n",
       " 'Cardiff',\n",
       " 'West Midlands',\n",
       " 'Belfast',\n",
       " 'Cheshire East',\n",
       " 'West Sussex',\n",
       " 'Kent',\n",
       " 'Gloucestershire',\n",
       " 'Cornwall',\n",
       " 'Cardiff',\n",
       " 'Kent',\n",
       " 'Greater London',\n",
       " 'Shropshire',\n",
       " 'Greater London',\n",
       " 'Greater London',\n",
       " 'Greater Manchester',\n",
       " 'Essex',\n",
       " 'Rhondda Cynon Taff',\n",
       " 'Greater London',\n",
       " 'Greater London',\n",
       " 'Suffolk',\n",
       " 'Derby',\n",
       " 'Greater London',\n",
       " 'Kent',\n",
       " 'Glasgow City',\n",
       " 'Greater London',\n",
       " 'Greater Manchester',\n",
       " 'Greater London',\n",
       " 'Reading',\n",
       " 'Greater London',\n",
       " 'Greater London',\n",
       " 'Essex',\n",
       " 'East Sussex',\n",
       " 'Norfolk',\n",
       " 'Somerset',\n",
       " 'Greater London',\n",
       " 'Perth and Kinross',\n",
       " 'South Yorkshire',\n",
       " 'Hertfordshire',\n",
       " 'Greater London',\n",
       " 'Southend-on-Sea',\n",
       " 'Greater London',\n",
       " 'Rhondda Cynon Taff',\n",
       " 'Wiltshire',\n",
       " 'Suffolk',\n",
       " 'South Yorkshire',\n",
       " 'Greater Manchester',\n",
       " 'Greater London',\n",
       " 'Greater London',\n",
       " 'Greater London',\n",
       " 'Essex',\n",
       " 'Merseyside',\n",
       " 'Glasgow City',\n",
       " 'Greater London',\n",
       " 'Tyne and Wear',\n",
       " 'Greater London',\n",
       " 'Greater London',\n",
       " 'Greater London',\n",
       " 'Greater London',\n",
       " 'Oxfordshire',\n",
       " 'Cumbria',\n",
       " 'Fife',\n",
       " 'Hertfordshire',\n",
       " 'Greater London',\n",
       " 'Rhondda Cynon Taff',\n",
       " 'Castell-nedd Port Talbot',\n",
       " 'Somerset',\n",
       " 'Southend-on-Sea',\n",
       " 'Warrington',\n",
       " 'West Yorkshire',\n",
       " 'Essex',\n",
       " 'Belfast',\n",
       " 'Hertfordshire',\n",
       " 'Edinburgh',\n",
       " 'Dundee City Council',\n",
       " 'Greater Manchester',\n",
       " 'Greater London',\n",
       " 'Essex',\n",
       " 'Greater London',\n",
       " 'North Yorkshire',\n",
       " 'Lancashire',\n",
       " 'Hertfordshire',\n",
       " 'Rhondda Cynon Taff',\n",
       " 'Cambridgeshire',\n",
       " 'Greater London',\n",
       " 'Greater London',\n",
       " 'Lancashire',\n",
       " 'Cambridgeshire',\n",
       " 'West Midlands',\n",
       " 'Northumberland',\n",
       " 'Devon',\n",
       " 'West Midlands',\n",
       " 'Greater London',\n",
       " 'Greater London',\n",
       " 'Greater London',\n",
       " 'Southend-on-Sea',\n",
       " 'Flintshire',\n",
       " 'Bath and North East Somerset',\n",
       " 'Essex',\n",
       " 'Greater London',\n",
       " 'Cambridgeshire',\n",
       " 'Greater London',\n",
       " 'Glasgow City',\n",
       " 'Derbyshire',\n",
       " 'Buckinghamshire',\n",
       " 'Rhondda Cynon Taff',\n",
       " 'Belfast',\n",
       " 'North Lincolnshire',\n",
       " 'Greater London',\n",
       " 'Greater London',\n",
       " 'Greater London',\n",
       " 'Greater London',\n",
       " 'Greater London',\n",
       " 'Greater London',\n",
       " 'Greater London',\n",
       " 'Herefordshire',\n",
       " 'Greater London',\n",
       " 'Greater London',\n",
       " 'Greater London',\n",
       " 'Derbyshire',\n",
       " 'Lincolnshire',\n",
       " 'Greater Manchester',\n",
       " 'Cambridgeshire',\n",
       " 'City of Bristol',\n",
       " 'Greater London',\n",
       " 'Greater London',\n",
       " 'Greater London',\n",
       " 'Greater London',\n",
       " 'Greater London',\n",
       " 'Greater London',\n",
       " 'Greater London',\n",
       " 'Greater London',\n",
       " 'Kent',\n",
       " 'Greater London',\n",
       " 'West Lothian',\n",
       " 'Greater London',\n",
       " 'Hampshire',\n",
       " 'Hampshire',\n",
       " 'Surrey',\n",
       " 'York',\n",
       " 'Essex',\n",
       " 'Suffolk',\n",
       " 'West Yorkshire',\n",
       " 'Greater London',\n",
       " 'Rhondda Cynon Taff',\n",
       " 'Tyne and Wear',\n",
       " 'West Yorkshire',\n",
       " 'West Yorkshire',\n",
       " 'Belfast',\n",
       " 'Greater London',\n",
       " 'Greater London',\n",
       " 'Greater London',\n",
       " 'Greater London',\n",
       " 'Greater London',\n",
       " 'Greater London',\n",
       " 'Greater London',\n",
       " 'Greater London',\n",
       " 'Greater London',\n",
       " 'Greater London',\n",
       " 'Greater London',\n",
       " 'West Yorkshire',\n",
       " 'South Yorkshire',\n",
       " 'Dorset',\n",
       " 'South Yorkshire',\n",
       " 'Derbyshire',\n",
       " 'Dorset',\n",
       " 'Greater London',\n",
       " 'Greater London',\n",
       " 'Tyne and Wear',\n",
       " 'Surrey',\n",
       " 'Greater London',\n",
       " 'Greater London',\n",
       " 'Greater London',\n",
       " 'Greater London',\n",
       " 'Cardiff',\n",
       " 'Greater London',\n",
       " 'Surrey',\n",
       " 'Greater London',\n",
       " 'Greater London',\n",
       " 'Greater London',\n",
       " 'Greater London',\n",
       " 'Greater London',\n",
       " 'Leicestershire',\n",
       " 'Gloucestershire',\n",
       " 'Greater London',\n",
       " 'Belfast',\n",
       " 'Greater London',\n",
       " 'Bath and North East Somerset',\n",
       " 'Greater London',\n",
       " 'Glasgow City',\n",
       " 'Greater London',\n",
       " 'Tyne and Wear',\n",
       " 'Oxfordshire',\n",
       " 'Brighton and Hove',\n",
       " 'Greater London',\n",
       " 'Hampshire',\n",
       " 'Greater Manchester',\n",
       " 'Hertfordshire',\n",
       " 'Central Bedfordshire',\n",
       " 'City of Bristol',\n",
       " 'Greater Manchester',\n",
       " 'Greater London',\n",
       " 'Greater London',\n",
       " 'West Yorkshire',\n",
       " 'South Yorkshire',\n",
       " 'Cheshire East',\n",
       " 'Greater London',\n",
       " 'Greater Manchester',\n",
       " 'South Yorkshire',\n",
       " 'City of Bristol',\n",
       " 'Central Bedfordshire',\n",
       " 'Stoke-on-Trent',\n",
       " 'Merseyside',\n",
       " 'Cheshire East',\n",
       " 'Hertfordshire',\n",
       " 'Greater London',\n",
       " 'Cornwall',\n",
       " 'Cornwall',\n",
       " 'East Sussex',\n",
       " 'Belfast',\n",
       " 'Greater London',\n",
       " 'Greater Manchester',\n",
       " 'Greater London',\n",
       " 'Cumbria',\n",
       " 'Lincolnshire',\n",
       " 'Staffordshire',\n",
       " 'Buckinghamshire',\n",
       " 'Greater London',\n",
       " 'West Yorkshire',\n",
       " 'Shropshire',\n",
       " 'Cardiff',\n",
       " 'Leicestershire',\n",
       " 'Rutland',\n",
       " 'Greater London',\n",
       " 'Greater London',\n",
       " 'Merseyside',\n",
       " 'Buckinghamshire',\n",
       " 'Cheshire East',\n",
       " 'Cardiff',\n",
       " 'North Somerset',\n",
       " 'Greater London',\n",
       " 'Bath and North East Somerset',\n",
       " 'Tyne and Wear',\n",
       " 'Oxfordshire',\n",
       " 'Greater London',\n",
       " 'Greater London',\n",
       " 'Greater London',\n",
       " 'Armagh City, Banbridge And Craigavon',\n",
       " 'Greater Manchester',\n",
       " 'Belfast',\n",
       " 'Belfast',\n",
       " 'Nottinghamshire',\n",
       " 'Derbyshire',\n",
       " 'Derbyshire',\n",
       " 'Greater London',\n",
       " 'West Midlands',\n",
       " 'Greater London',\n",
       " 'Greater London',\n",
       " 'Cumbria',\n",
       " 'Greater Manchester',\n",
       " 'Glasgow City',\n",
       " 'Greater London',\n",
       " 'Northumberland',\n",
       " 'Hampshire',\n",
       " 'Shropshire',\n",
       " 'Merseyside',\n",
       " 'Greater London',\n",
       " 'Lancashire',\n",
       " 'Greater London',\n",
       " 'Lancashire',\n",
       " 'Norfolk',\n",
       " 'Essex',\n",
       " 'Cheshire East',\n",
       " 'Surrey',\n",
       " 'Greater London',\n",
       " 'Kent',\n",
       " 'Cambridgeshire',\n",
       " 'Windsor and Maidenhead',\n",
       " 'Gloucestershire',\n",
       " 'Gloucestershire',\n",
       " 'Worcestershire',\n",
       " 'Falkirk',\n",
       " 'Southend-on-Sea',\n",
       " 'Greater London',\n",
       " 'Perth and Kinross',\n",
       " 'Greater London',\n",
       " 'West Berkshire',\n",
       " 'Greater London',\n",
       " 'Surrey',\n",
       " 'Tyne and Wear',\n",
       " 'Greater London',\n",
       " 'Cheshire West and Chester',\n",
       " 'Highland Council',\n",
       " 'Greater London',\n",
       " 'Greater London',\n",
       " 'Greater London',\n",
       " 'Belfast',\n",
       " 'Norfolk',\n",
       " 'Cardiff',\n",
       " 'Newport',\n",
       " 'Greater London',\n",
       " 'Warwickshire',\n",
       " 'Greater London',\n",
       " 'Essex',\n",
       " 'Greater London',\n",
       " 'Reading',\n",
       " 'Hampshire',\n",
       " 'Cardiff',\n",
       " 'West Yorkshire',\n",
       " 'Greater Manchester',\n",
       " 'York',\n",
       " 'Lancashire',\n",
       " 'Monmouthshire',\n",
       " 'Torbay',\n",
       " 'West Sussex',\n",
       " 'Greater Manchester',\n",
       " 'Greater London',\n",
       " 'Kingston upon Hull',\n",
       " 'West Yorkshire',\n",
       " 'Northumberland',\n",
       " 'Stirling',\n",
       " 'Angus council',\n",
       " 'Portsmouth',\n",
       " 'Cumbria',\n",
       " 'Essex',\n",
       " 'Essex',\n",
       " 'Essex',\n",
       " 'South Yorkshire',\n",
       " 'Greater London',\n",
       " 'Shropshire',\n",
       " 'Southend-on-Sea',\n",
       " 'Greater London',\n",
       " 'Greater London',\n",
       " 'Kent',\n",
       " 'Northumberland',\n",
       " 'South Yorkshire',\n",
       " 'Greater London',\n",
       " 'Shropshire',\n",
       " 'Merseyside',\n",
       " 'Nottinghamshire',\n",
       " 'Greater Manchester',\n",
       " 'Greater London',\n",
       " 'Greater Manchester',\n",
       " 'Cambridgeshire',\n",
       " 'Greater Manchester',\n",
       " 'Argyll and Bute Council',\n",
       " 'Warwickshire',\n",
       " 'Cheshire East',\n",
       " 'Greater London',\n",
       " 'Greater London',\n",
       " 'Greater Manchester',\n",
       " 'Derbyshire',\n",
       " 'Greater London',\n",
       " 'Cornwall',\n",
       " 'County Durham',\n",
       " 'Greater London',\n",
       " 'Greater London',\n",
       " 'Flintshire',\n",
       " 'West Midlands',\n",
       " 'Cambridgeshire',\n",
       " 'City of Bristol',\n",
       " 'Mid And East Antrim',\n",
       " 'Belfast',\n",
       " 'South Yorkshire',\n",
       " 'Slough',\n",
       " 'Reading',\n",
       " 'Windsor and Maidenhead',\n",
       " 'Na h-Eileanan an Iar',\n",
       " 'Devon',\n",
       " 'Stoke-on-Trent',\n",
       " 'Greater London',\n",
       " 'Cambridgeshire',\n",
       " 'West Sussex',\n",
       " 'Kent',\n",
       " 'Greater London',\n",
       " 'Surrey',\n",
       " 'Greater London',\n",
       " 'Plymouth',\n",
       " 'Hertfordshire',\n",
       " 'South Gloucestershire',\n",
       " 'Newry, Mourne And Down',\n",
       " 'Milton Keynes',\n",
       " 'Greater London',\n",
       " 'Worcestershire',\n",
       " 'Norfolk',\n",
       " 'Greater London',\n",
       " 'Norfolk',\n",
       " 'Northamptonshire',\n",
       " 'Caerphilly County Borough',\n",
       " 'Oxfordshire',\n",
       " 'East Sussex',\n",
       " 'Swindon',\n",
       " 'Somerset',\n",
       " 'Orkney',\n",
       " 'Kent',\n",
       " 'Surrey',\n",
       " 'Devon',\n",
       " 'Essex',\n",
       " 'Derbyshire',\n",
       " 'Renfrewshire',\n",
       " 'Kent',\n",
       " 'Kent',\n",
       " 'Cambridgeshire',\n",
       " 'Fife',\n",
       " 'West Yorkshire',\n",
       " 'Essex',\n",
       " 'West Midlands',\n",
       " 'Ynys Môn',\n",
       " 'Cornwall',\n",
       " 'Gwynedd',\n",
       " 'Kent',\n",
       " 'Cambridgeshire',\n",
       " 'South Yorkshire',\n",
       " 'Staffordshire',\n",
       " 'Slough',\n",
       " 'Gloucestershire',\n",
       " 'Suffolk',\n",
       " 'Greater London',\n",
       " 'Surrey',\n",
       " 'South Yorkshire',\n",
       " 'County Durham',\n",
       " 'Kent',\n",
       " 'Derby',\n",
       " 'Cumbria',\n",
       " 'Tyne and Wear',\n",
       " 'Suffolk',\n",
       " 'West Yorkshire',\n",
       " 'Hampshire',\n",
       " 'Buckinghamshire',\n",
       " 'Aberdeenshire',\n",
       " 'Nottinghamshire',\n",
       " 'Essex',\n",
       " 'Rhondda Cynon Taff',\n",
       " 'Essex',\n",
       " 'Cornwall',\n",
       " 'North Somerset',\n",
       " 'West Sussex',\n",
       " 'Tyne and Wear',\n",
       " 'Greater London',\n",
       " 'Powys',\n",
       " 'Greater London',\n",
       " 'County Durham',\n",
       " 'Suffolk',\n",
       " 'Greater London',\n",
       " 'Tyne and Wear',\n",
       " 'Lancashire',\n",
       " 'Somerset',\n",
       " 'West Sussex',\n",
       " 'Merseyside',\n",
       " 'Lancashire',\n",
       " 'Hampshire',\n",
       " 'Greater London',\n",
       " 'Greater London',\n",
       " 'Tyne and Wear',\n",
       " 'Herefordshire',\n",
       " 'Suffolk',\n",
       " 'Greater London',\n",
       " 'Warwickshire',\n",
       " 'West Midlands',\n",
       " 'Medway',\n",
       " 'Essex',\n",
       " 'Belfast',\n",
       " 'Sir Ceredigion',\n",
       " 'Newry, Mourne And Down',\n",
       " 'West Yorkshire',\n",
       " 'Rhondda Cynon Taff',\n",
       " 'Greater London',\n",
       " 'Essex',\n",
       " 'Greater London',\n",
       " 'Hampshire',\n",
       " 'Greater London',\n",
       " 'West Midlands',\n",
       " 'Suffolk',\n",
       " 'Rhondda Cynon Taff',\n",
       " 'Belfast',\n",
       " 'Glasgow City',\n",
       " 'Greater London',\n",
       " 'Medway',\n",
       " 'Conwy Principal Area',\n",
       " 'Merseyside',\n",
       " 'Greater London',\n",
       " 'Greater London',\n",
       " 'Glasgow City',\n",
       " 'Greater London',\n",
       " 'Greater London',\n",
       " 'Essex',\n",
       " 'Greater London',\n",
       " 'Windsor and Maidenhead',\n",
       " 'Tyne and Wear',\n",
       " 'Hertfordshire',\n",
       " 'West Midlands',\n",
       " 'North East Lincolnshire',\n",
       " 'Derbyshire',\n",
       " 'Glasgow City',\n",
       " 'Rhondda Cynon Taff',\n",
       " 'West Sussex',\n",
       " 'Lancashire',\n",
       " 'Greater London',\n",
       " 'Surrey',\n",
       " 'Greater London',\n",
       " 'West Yorkshire',\n",
       " 'Milton Keynes',\n",
       " 'Lancashire',\n",
       " 'Belfast',\n",
       " 'Greater London',\n",
       " 'Greater London',\n",
       " 'Greater London',\n",
       " 'Northamptonshire',\n",
       " 'Cheshire East',\n",
       " 'Rhondda Cynon Taff',\n",
       " 'Greater London',\n",
       " 'Greater London',\n",
       " 'Brighton and Hove',\n",
       " 'Norfolk',\n",
       " 'Greater Manchester',\n",
       " 'Cumbria',\n",
       " 'Greater London',\n",
       " 'West Midlands',\n",
       " 'Cheshire West and Chester',\n",
       " 'Merseyside',\n",
       " 'Greater London',\n",
       " 'West Yorkshire',\n",
       " 'North Ayrshire Council',\n",
       " 'Lincolnshire',\n",
       " 'East Sussex',\n",
       " 'Gloucestershire',\n",
       " 'Rhondda Cynon Taff',\n",
       " 'Rhondda Cynon Taff',\n",
       " 'Greater London',\n",
       " 'Greater London',\n",
       " 'Tyne and Wear',\n",
       " 'Essex',\n",
       " 'Windsor and Maidenhead',\n",
       " 'North Yorkshire',\n",
       " 'Greater London',\n",
       " 'Shetland Islands',\n",
       " 'Essex',\n",
       " 'Greater London',\n",
       " 'Cheshire East',\n",
       " 'Hampshire',\n",
       " 'West Dunbartonshire Council',\n",
       " 'South Yorkshire',\n",
       " 'North East Lincolnshire',\n",
       " 'Rhondda Cynon Taff',\n",
       " 'Greater London',\n",
       " 'Essex',\n",
       " 'Greater London',\n",
       " 'Derbyshire',\n",
       " 'Cornwall',\n",
       " 'Reading',\n",
       " 'Greater London',\n",
       " 'Greater London',\n",
       " 'Southend-on-Sea',\n",
       " 'Flintshire',\n",
       " 'Greater London',\n",
       " 'Essex',\n",
       " 'Conwy Principal Area',\n",
       " 'Leicester',\n",
       " 'East Sussex',\n",
       " 'York',\n",
       " 'Scottish Borders',\n",
       " 'South Yorkshire',\n",
       " 'Rhondda Cynon Taff',\n",
       " 'Greater London',\n",
       " 'Surrey',\n",
       " 'Greater London',\n",
       " 'Merseyside',\n",
       " 'Cornwall',\n",
       " 'Edinburgh',\n",
       " 'Greater London',\n",
       " 'Greater London',\n",
       " 'Plymouth',\n",
       " 'Merseyside',\n",
       " 'West Yorkshire',\n",
       " 'Caerphilly County Borough',\n",
       " 'Greater London',\n",
       " 'North Lincolnshire',\n",
       " 'Gloucestershire',\n",
       " 'Greater London',\n",
       " 'West Midlands',\n",
       " 'Greater Manchester',\n",
       " 'Kent',\n",
       " 'Cambridgeshire',\n",
       " 'Brighton and Hove',\n",
       " 'City of Bristol',\n",
       " 'Greater London',\n",
       " 'Rhondda Cynon Taff',\n",
       " 'Greater London',\n",
       " 'East Renfrewshire Council',\n",
       " 'West Midlands',\n",
       " 'Scottish Borders',\n",
       " 'Rutland',\n",
       " 'Brighton and Hove',\n",
       " 'Greater London',\n",
       " 'Greater London',\n",
       " 'Surrey',\n",
       " 'North Yorkshire',\n",
       " 'Greater London',\n",
       " 'Nottinghamshire',\n",
       " 'Greater London',\n",
       " 'Greater London',\n",
       " 'Oxfordshire',\n",
       " 'South Yorkshire',\n",
       " 'Greater London',\n",
       " 'Greater London',\n",
       " 'North Ayrshire Council',\n",
       " 'Greater London',\n",
       " 'Rhondda Cynon Taff',\n",
       " 'Greater London',\n",
       " 'Greater London',\n",
       " 'Greater London',\n",
       " 'Greater London',\n",
       " 'Essex',\n",
       " 'Lincolnshire',\n",
       " 'York',\n",
       " 'Cheshire East',\n",
       " 'West Yorkshire',\n",
       " 'Greater London',\n",
       " 'Wokingham',\n",
       " 'Greater London',\n",
       " 'Torbay',\n",
       " 'Merseyside',\n",
       " 'Essex',\n",
       " 'Aberdeen City',\n",
       " 'Greater London',\n",
       " 'Greater London',\n",
       " 'Greater London',\n",
       " 'Surrey',\n",
       " 'Southampton',\n",
       " 'Somerset',\n",
       " 'West Yorkshire',\n",
       " 'Greater Manchester',\n",
       " 'Essex',\n",
       " 'Suffolk',\n",
       " 'West Yorkshire',\n",
       " 'Greater London',\n",
       " 'Rhondda Cynon Taff',\n",
       " 'Greater London',\n",
       " 'Central Bedfordshire',\n",
       " 'Warwickshire',\n",
       " 'Warwickshire',\n",
       " 'Northamptonshire',\n",
       " 'Northamptonshire',\n",
       " 'Lancashire',\n",
       " 'Greater London',\n",
       " 'West Midlands',\n",
       " 'Merseyside',\n",
       " 'Luton',\n",
       " 'West Midlands',\n",
       " 'Surrey',\n",
       " 'Cardiff',\n",
       " 'Lincolnshire',\n",
       " 'Newport',\n",
       " 'Greater Manchester',\n",
       " 'Greater London',\n",
       " 'West Midlands',\n",
       " 'Lincolnshire',\n",
       " 'Hertfordshire',\n",
       " 'Greater London',\n",
       " 'Belfast',\n",
       " 'Greater London',\n",
       " 'Derby',\n",
       " 'Greater London',\n",
       " 'Greater London',\n",
       " 'Lincolnshire',\n",
       " 'Rhondda Cynon Taff',\n",
       " 'Greater London',\n",
       " 'Greater London',\n",
       " 'Greater London',\n",
       " 'Greater Manchester',\n",
       " 'Greater London',\n",
       " 'Belfast',\n",
       " 'Greater London',\n",
       " 'Carmarthenshire',\n",
       " 'Wiltshire',\n",
       " 'Essex',\n",
       " 'Essex',\n",
       " 'Surrey',\n",
       " 'Greater London',\n",
       " 'Greater London',\n",
       " 'Worcestershire',\n",
       " 'City of Bristol',\n",
       " 'Greater London',\n",
       " 'Kent',\n",
       " 'Highland Council',\n",
       " 'Greater London',\n",
       " 'Greater London',\n",
       " 'Rhondda Cynon Taff',\n",
       " 'Cambridgeshire',\n",
       " 'Greater London',\n",
       " 'Merseyside',\n",
       " 'Merseyside',\n",
       " 'Glasgow City',\n",
       " ...]"
      ]
     },
     "execution_count": 36,
     "metadata": {},
     "output_type": "execute_result"
    }
   ],
   "source": [
    "labels = df['County'].to_list()\n",
    "labels"
   ]
  },
  {
   "cell_type": "code",
   "execution_count": 64,
   "metadata": {},
   "outputs": [
    {
     "name": "stdout",
     "output_type": "stream",
     "text": [
      "[[6.2566918e-01 8.2784072e-02 1.8386251e-01 6.1128306e-01 1.5654336e-01\n",
      "  4.7883046e-01 4.8629466e-01 9.6579872e-02 3.6777854e-01 8.6468970e-03\n",
      "  2.0610443e-01 6.4639717e-01 1.3703446e-01 5.4682082e-01 5.9025537e-02\n",
      "  4.1046581e-01 4.0642107e-01 5.7264317e-02 1.6459001e-02 1.5061944e-02\n",
      "  4.1498039e-02 5.7270515e-01 2.8503902e+00 3.3188865e-01 2.7914761e-02\n",
      "  4.8289570e-01 3.5938416e-02 4.5278436e-01 1.1651709e+00 4.3162000e-01\n",
      "  5.8073863e-02 5.2731849e-02 2.1880124e-02 5.4464179e-01 3.4196269e-02\n",
      "  6.7752667e-02 3.7186347e-02 3.3038095e-01 6.9471627e-01 4.8792206e-02\n",
      "  4.9591374e-02 1.6482800e-01 6.2857568e-01 8.0139570e-02 1.7313741e-01\n",
      "  3.2791248e-01 9.2680919e-01 3.6720097e-01 5.4296219e-01 3.0601102e-01\n",
      "  1.3709990e+00 1.8362427e-02 2.6257110e+00 6.0527319e-01 9.2924786e-01\n",
      "  2.3900544e-02 3.3019289e-02 9.1301180e-02 3.6598167e+00 1.7232506e-01\n",
      "  1.3964102e+00 1.0390799e-01 8.1065632e-02 1.1262530e-01 3.4526091e-02\n",
      "  5.2126382e-02 8.4151223e-02 2.6703984e-01 7.7898704e-02 1.5464872e-01\n",
      "  2.0225356e+00 4.0047854e-02 1.3236700e-02 3.8486276e+00 5.2387398e-01\n",
      "  1.7544630e+00 9.4287194e-02 3.2545727e-02 9.0221390e-02 2.2945979e-01\n",
      "  2.6512852e-01 5.0235983e-02 8.6008288e-02 1.3937330e-01 3.3658186e-01\n",
      "  3.2642162e-01 2.1847355e-01 5.9737790e-01 1.9757105e-01 1.9899635e-01\n",
      "  1.0677410e-02 7.3984468e-01 2.2715709e+00 6.6249406e-01 1.7400226e-02\n",
      "  1.0190821e+00 1.1664336e-02 2.0893099e+00 2.3215124e-01 1.3650717e-01\n",
      "  5.3021193e+00 2.1907915e-01 1.0306748e+00 4.6549633e-02 5.4924274e-03\n",
      "  1.3095720e-01 1.6637815e+00 9.3877114e-02 1.3875685e+00 4.2684725e-01\n",
      "  3.1947136e+00 2.2996990e-02 5.9710525e-02 2.1067055e-01 3.4184304e-01\n",
      "  5.2780885e-02 2.4756871e-01 1.7449381e-02 3.0725427e-02 4.6724405e-02\n",
      "  1.7826302e-02 6.6224509e-03 2.0597300e-03 1.7063291e-01 6.7197464e-02\n",
      "  7.1442157e-02 6.6113335e-01 5.2894199e-01 8.1090087e-01 1.2322186e-01\n",
      "  3.5250509e-01 7.7937799e+00 7.9837218e-02 1.1675994e+00 4.9624771e-02\n",
      "  7.0010751e-02 1.0500241e-02 5.8182329e-02 6.5059843e+00 1.6207600e-01\n",
      "  3.9913729e-01 4.0865865e-01 4.1864481e+00 7.4400544e-02 3.1495085e-01\n",
      "  1.5835881e+00 2.0402017e-01 1.7235856e+00 3.8461682e-01 1.6448496e-01\n",
      "  6.7493841e-03 6.4406872e+00 1.8231760e-01 1.3737699e+00 3.1043309e-01\n",
      "  4.4819424e-01 1.4271885e-01 1.1245616e-02 7.9759157e-01]]\n"
     ]
    }
   ],
   "source": [
    "new_tweet = ['Celtic Celtic go go']\n",
    "\n",
    "seq = tokenizer.texts_to_sequences(new_tweet)\n",
    "padded = pad_sequences(seq, maxlen=MAX_SEQUENCE_LENGTH)\n",
    "\n",
    "pred = model.predict(padded)\n",
    "\n",
    "# labels = str(df['County'])\n",
    "\n",
    "print(pred *100)"
   ]
  },
  {
   "cell_type": "code",
   "execution_count": 72,
   "metadata": {},
   "outputs": [
    {
     "data": {
      "text/plain": [
       "'Greater London'"
      ]
     },
     "execution_count": 72,
     "metadata": {},
     "output_type": "execute_result"
    }
   ],
   "source": [
    "labels[np.argmax(pred)]"
   ]
  },
  {
   "cell_type": "code",
   "execution_count": null,
   "metadata": {},
   "outputs": [],
   "source": []
  }
 ],
 "metadata": {
  "kernelspec": {
   "display_name": "Python 3",
   "language": "python",
   "name": "python3"
  },
  "language_info": {
   "codemirror_mode": {
    "name": "ipython",
    "version": 3
   },
   "file_extension": ".py",
   "mimetype": "text/x-python",
   "name": "python",
   "nbconvert_exporter": "python",
   "pygments_lexer": "ipython3",
   "version": "3.7.6"
  }
 },
 "nbformat": 4,
 "nbformat_minor": 2
}
